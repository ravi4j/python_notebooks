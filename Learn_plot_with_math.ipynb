{
  "nbformat": 4,
  "nbformat_minor": 0,
  "metadata": {
    "colab": {
      "provenance": [],
      "authorship_tag": "ABX9TyPXdcPAagxd4DYEoPv2BuiT",
      "include_colab_link": true
    },
    "kernelspec": {
      "name": "python3",
      "display_name": "Python 3"
    },
    "language_info": {
      "name": "python"
    }
  },
  "cells": [
    {
      "cell_type": "markdown",
      "metadata": {
        "id": "view-in-github",
        "colab_type": "text"
      },
      "source": [
        "<a href=\"https://colab.research.google.com/github/ravi4j/python_notebooks/blob/main/Learn_plot_with_math.ipynb\" target=\"_parent\"><img src=\"https://colab.research.google.com/assets/colab-badge.svg\" alt=\"Open In Colab\"/></a>"
      ]
    },
    {
      "cell_type": "code",
      "execution_count": 3,
      "metadata": {
        "colab": {
          "base_uri": "https://localhost:8080/"
        },
        "id": "gceDvgf1LJlu",
        "outputId": "1f3ace20-3877-4dae-cdea-20d58e6099d3"
      },
      "outputs": [
        {
          "output_type": "stream",
          "name": "stdout",
          "text": [
            "My First python notebook\n"
          ]
        }
      ],
      "source": [
        "print(\"My First python notebook\")"
      ]
    },
    {
      "cell_type": "markdown",
      "source": [
        "## My First Python Notebook to learn graph plotting with NumPy and MathplotLib\n",
        "### Using Hands-on Matplotlib: Learn Plotting and Visualizations with Python 3"
      ],
      "metadata": {
        "id": "UTeVhX8YQHBH"
      }
    },
    {
      "cell_type": "markdown",
      "source": [
        "## Introduction with Python 3\n",
        "\n"
      ],
      "metadata": {
        "id": "JmI9dmaLQ2gW"
      }
    },
    {
      "cell_type": "code",
      "source": [
        "print('Hello World!')"
      ],
      "metadata": {
        "colab": {
          "base_uri": "https://localhost:8080/"
        },
        "id": "OXb-n4_AQ_41",
        "outputId": "12c318c1-fdac-40de-f60b-58a1b2bba8a0"
      },
      "execution_count": 4,
      "outputs": [
        {
          "output_type": "stream",
          "name": "stdout",
          "text": [
            "Hello World!\n"
          ]
        }
      ]
    },
    {
      "cell_type": "markdown",
      "source": [
        "## Getting start with Numpy\n",
        " Exploring Numpy ndArray Class\n",
        "\n",
        "\n",
        "1.   Type , dtype\n",
        "2.   indexing\n",
        "\n"
      ],
      "metadata": {
        "id": "yS-jjqvwRPbn"
      }
    },
    {
      "cell_type": "code",
      "source": [
        "import numpy as np\n",
        "x = np.array([1, 2, 3], dtype=np.int16)\n",
        "print(f\"x =  {x}\")\n",
        "print(f\"type of x is {type(x)} , dtype of x is {x.dtype} \")"
      ],
      "metadata": {
        "colab": {
          "base_uri": "https://localhost:8080/"
        },
        "id": "T2WF4k8hRaDw",
        "outputId": "baae5519-c480-44c0-f8e0-7bf55a685c51"
      },
      "execution_count": 12,
      "outputs": [
        {
          "output_type": "stream",
          "name": "stdout",
          "text": [
            "x =  [1 2 3]\n",
            "type of x is <class 'numpy.ndarray'> , dtype of x is int16 \n"
          ]
        }
      ]
    },
    {
      "cell_type": "code",
      "source": [
        "print(f\" x[:0] = {x[:0]}\")\n",
        "print(f\" x[:1] = {x[:1]}\")\n",
        "print(f\" x[:2] = {x[:2]}\")\n",
        "print(f\" x[:3] = {x[:3]}\")\n",
        "print(f\" x[1:] = {x[1:]}\")\n",
        "print(f\" x[2:] = {x[2:]}\")\n",
        "print(f\" x[3:] = {x[3:]}\")\n",
        "print(f\" x[0:2] = {x[0:2]}\")\n",
        "print(f\" x[0] = {x[0]}\")\n",
        "print(f\" x[1] = {x[1]}\")\n",
        "print(f\" x[2] = {x[2]}\")\n"
      ],
      "metadata": {
        "colab": {
          "base_uri": "https://localhost:8080/"
        },
        "id": "NH53XUh3S72D",
        "outputId": "efc85044-de30-44b6-e016-e3617a44080b"
      },
      "execution_count": 24,
      "outputs": [
        {
          "output_type": "stream",
          "name": "stdout",
          "text": [
            " x[:0] = []\n",
            " x[:1] = [1]\n",
            " x[:2] = [1 2]\n",
            " x[:3] = [1 2 3]\n",
            " x[1:] = [2 3]\n",
            " x[2:] = [3]\n",
            " x[3:] = []\n",
            " x[0:2] = [1 2]\n",
            " x[0] = 1\n",
            " x[1] = 2\n",
            " x[2] = 3\n"
          ]
        }
      ]
    },
    {
      "cell_type": "code",
      "source": [],
      "metadata": {
        "id": "LTNeMH_eSGQX"
      },
      "execution_count": null,
      "outputs": []
    }
  ]
}